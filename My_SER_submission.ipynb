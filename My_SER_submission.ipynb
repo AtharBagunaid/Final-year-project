{
  "nbformat": 4,
  "nbformat_minor": 0,
  "metadata": {
    "colab": {
      "name": "My_SER submission.ipynb",
      "provenance": [],
      "collapsed_sections": [],
      "authorship_tag": "ABX9TyM81tdL1uvYTdH24i2hEEmq"
    },
    "kernelspec": {
      "name": "python3",
      "display_name": "Python 3"
    }
  },
  "cells": [
    {
      "cell_type": "markdown",
      "metadata": {
        "id": "xa_azWI2GNae"
      },
      "source": [
        "# Speech emotion recognition \n",
        "## using ESN-IP\n",
        "\n",
        "---\n",
        "\n"
      ]
    },
    {
      "cell_type": "code",
      "metadata": {
        "id": "fzJHGPNAa3D_",
        "colab": {
          "base_uri": "https://localhost:8080/"
        },
        "outputId": "4f393c2b-7d11-4899-a558-404c4537d501"
      },
      "source": [
        "!pip install librosa"
      ],
      "execution_count": null,
      "outputs": [
        {
          "output_type": "stream",
          "text": [
            "Requirement already satisfied: librosa in /usr/local/lib/python3.7/dist-packages (0.8.0)\n",
            "Requirement already satisfied: scipy>=1.0.0 in /usr/local/lib/python3.7/dist-packages (from librosa) (1.4.1)\n",
            "Requirement already satisfied: joblib>=0.14 in /usr/local/lib/python3.7/dist-packages (from librosa) (1.0.1)\n",
            "Requirement already satisfied: numpy>=1.15.0 in /usr/local/lib/python3.7/dist-packages (from librosa) (1.19.5)\n",
            "Requirement already satisfied: scikit-learn!=0.19.0,>=0.14.0 in /usr/local/lib/python3.7/dist-packages (from librosa) (0.22.2.post1)\n",
            "Requirement already satisfied: numba>=0.43.0 in /usr/local/lib/python3.7/dist-packages (from librosa) (0.51.2)\n",
            "Requirement already satisfied: soundfile>=0.9.0 in /usr/local/lib/python3.7/dist-packages (from librosa) (0.10.3.post1)\n",
            "Requirement already satisfied: decorator>=3.0.0 in /usr/local/lib/python3.7/dist-packages (from librosa) (4.4.2)\n",
            "Requirement already satisfied: resampy>=0.2.2 in /usr/local/lib/python3.7/dist-packages (from librosa) (0.2.2)\n",
            "Requirement already satisfied: audioread>=2.0.0 in /usr/local/lib/python3.7/dist-packages (from librosa) (2.1.9)\n",
            "Requirement already satisfied: pooch>=1.0 in /usr/local/lib/python3.7/dist-packages (from librosa) (1.3.0)\n",
            "Requirement already satisfied: llvmlite<0.35,>=0.34.0.dev0 in /usr/local/lib/python3.7/dist-packages (from numba>=0.43.0->librosa) (0.34.0)\n",
            "Requirement already satisfied: setuptools in /usr/local/lib/python3.7/dist-packages (from numba>=0.43.0->librosa) (56.1.0)\n",
            "Requirement already satisfied: cffi>=1.0 in /usr/local/lib/python3.7/dist-packages (from soundfile>=0.9.0->librosa) (1.14.5)\n",
            "Requirement already satisfied: six>=1.3 in /usr/local/lib/python3.7/dist-packages (from resampy>=0.2.2->librosa) (1.15.0)\n",
            "Requirement already satisfied: appdirs in /usr/local/lib/python3.7/dist-packages (from pooch>=1.0->librosa) (1.4.4)\n",
            "Requirement already satisfied: packaging in /usr/local/lib/python3.7/dist-packages (from pooch>=1.0->librosa) (20.9)\n",
            "Requirement already satisfied: requests in /usr/local/lib/python3.7/dist-packages (from pooch>=1.0->librosa) (2.23.0)\n",
            "Requirement already satisfied: pycparser in /usr/local/lib/python3.7/dist-packages (from cffi>=1.0->soundfile>=0.9.0->librosa) (2.20)\n",
            "Requirement already satisfied: pyparsing>=2.0.2 in /usr/local/lib/python3.7/dist-packages (from packaging->pooch>=1.0->librosa) (2.4.7)\n",
            "Requirement already satisfied: idna<3,>=2.5 in /usr/local/lib/python3.7/dist-packages (from requests->pooch>=1.0->librosa) (2.10)\n",
            "Requirement already satisfied: chardet<4,>=3.0.2 in /usr/local/lib/python3.7/dist-packages (from requests->pooch>=1.0->librosa) (3.0.4)\n",
            "Requirement already satisfied: certifi>=2017.4.17 in /usr/local/lib/python3.7/dist-packages (from requests->pooch>=1.0->librosa) (2020.12.5)\n",
            "Requirement already satisfied: urllib3!=1.25.0,!=1.25.1,<1.26,>=1.21.1 in /usr/local/lib/python3.7/dist-packages (from requests->pooch>=1.0->librosa) (1.24.3)\n"
          ],
          "name": "stdout"
        }
      ]
    },
    {
      "cell_type": "code",
      "metadata": {
        "id": "s2RlvQf6F9Xo"
      },
      "source": [
        "# import libraries\n",
        "import os\n",
        "\n",
        "import numpy as np\n",
        "import pandas as pd\n",
        "import librosa   # to extract speech features\n",
        "import soundfile  # to read sound file\n",
        "import glob # to find files\n",
        "from sklearn.model_selection import train_test_split # for splitting training and testing\n",
        "from sklearn.metrics import accuracy_score # to measure how good we are\n",
        "from sklearn.linear_model import Ridge\n",
        "from sklearn.linear_model import RidgeClassifier\n",
        "import math\n",
        "import scipy.io\n",
        "import scipy.linalg as la\n",
        "import random\n",
        "from scipy.special import softmax\n",
        "from numpy import argmax\n",
        "import matplotlib.pyplot as plt\n"
      ],
      "execution_count": null,
      "outputs": []
    },
    {
      "cell_type": "code",
      "metadata": {
        "id": "KYCwrSD9JJej"
      },
      "source": [
        "# download and extract dataset to current directory\n",
        "def extract_dataset():\n",
        "  if \"download.zip\" in os.listdir():\n",
        "    print(\"Dataset already exist\")\n",
        "\n",
        "  else:  \n",
        "    print(\"Downloading Emo-DB (40.5MB) ...\")\n",
        "    !wget http://emodb.bilderbar.info/download/download.zip\n",
        "    print(\"Dataset is downloaded!\")\n",
        "    print(\"Now extracting the data ...\")\n",
        "    !unzip download.zip\n",
        "    print(\"Extracting is done!\")\n",
        "\n",
        "  # determine the path of wav folder\n",
        "  current_path = os.getcwd()\n",
        "  print(\"currect path is \", current_path)\n",
        "  location = os.path.join(current_path, \"wav/\")\n",
        "  print(\"full path to dataset wav folder: \", location)\n",
        "\n",
        "  # convert the dataset_files list into panda dataframe for better visualization\n",
        "  dataset_files = os.listdir(location)\n",
        "  \n",
        "  return dataset_files\n",
        "\n",
        "audio_files = extract_dataset()\n",
        "# audio_files\n",
        "  "
      ],
      "execution_count": null,
      "outputs": []
    },
    {
      "cell_type": "markdown",
      "metadata": {
        "id": "O7Sc6Myp8tKW"
      },
      "source": [
        "=======================================\n",
        "\n",
        "**How dataset looks like**"
      ]
    },
    {
      "cell_type": "code",
      "metadata": {
        "colab": {
          "base_uri": "https://localhost:8080/",
          "height": 644
        },
        "id": "Lzir7g-R8pJP",
        "outputId": "2260c228-423f-4fbf-aa53-3ae903ec26d0"
      },
      "source": [
        "# Get emotion labels\n",
        "def get_emotions_speakers():\n",
        "  emotion_encoding = {\n",
        "    'W': 'Anger',\n",
        "    'L': 'Bordom',\n",
        "    'E': 'Disgust',\n",
        "    'A': 'Anxiety/Fear',\n",
        "    'F': 'Happienss',\n",
        "    'T': 'Sadness',\n",
        "    'N': 'Neutral'\n",
        "  }\n",
        "\n",
        "  emotion_codes = []\n",
        "  df_names = pd.DataFrame(audio_files, columns=['File_names'])\n",
        "\n",
        "  for file in df_names.File_names:\n",
        "    # print(file)\n",
        "    emotion_codes.append(file[-1-5])\n",
        "  df_names['Emotion_codes'] = emotion_codes\n",
        "\n",
        "  emotion_names = []\n",
        "  for emo in df_names.Emotion_codes:\n",
        "    emotion_names.append(emotion_encoding[emo])\n",
        "  df_names['Emotions'] = emotion_names\n",
        "\n",
        "  speaker_code = []\n",
        "  for sp in df_names.File_names:\n",
        "    speaker_code.append(sp[-1-10:-1-8])\n",
        "  df_names['Speaker_codes'] = speaker_code\n",
        "  return df_names\n",
        "\n",
        "# invoke the function\n",
        "df_names = get_emotions_speakers()\n",
        "df_names.head(20)"
      ],
      "execution_count": null,
      "outputs": [
        {
          "output_type": "execute_result",
          "data": {
            "text/html": [
              "<div>\n",
              "<style scoped>\n",
              "    .dataframe tbody tr th:only-of-type {\n",
              "        vertical-align: middle;\n",
              "    }\n",
              "\n",
              "    .dataframe tbody tr th {\n",
              "        vertical-align: top;\n",
              "    }\n",
              "\n",
              "    .dataframe thead th {\n",
              "        text-align: right;\n",
              "    }\n",
              "</style>\n",
              "<table border=\"1\" class=\"dataframe\">\n",
              "  <thead>\n",
              "    <tr style=\"text-align: right;\">\n",
              "      <th></th>\n",
              "      <th>File_names</th>\n",
              "      <th>Emotion_codes</th>\n",
              "      <th>Emotions</th>\n",
              "      <th>Speaker_codes</th>\n",
              "    </tr>\n",
              "  </thead>\n",
              "  <tbody>\n",
              "    <tr>\n",
              "      <th>0</th>\n",
              "      <td>14a01Wc.wav</td>\n",
              "      <td>W</td>\n",
              "      <td>Anger</td>\n",
              "      <td>14</td>\n",
              "    </tr>\n",
              "    <tr>\n",
              "      <th>1</th>\n",
              "      <td>12a01Lb.wav</td>\n",
              "      <td>L</td>\n",
              "      <td>Bordom</td>\n",
              "      <td>12</td>\n",
              "    </tr>\n",
              "    <tr>\n",
              "      <th>2</th>\n",
              "      <td>16b10Wb.wav</td>\n",
              "      <td>W</td>\n",
              "      <td>Anger</td>\n",
              "      <td>16</td>\n",
              "    </tr>\n",
              "    <tr>\n",
              "      <th>3</th>\n",
              "      <td>14a05Tc.wav</td>\n",
              "      <td>T</td>\n",
              "      <td>Sadness</td>\n",
              "      <td>14</td>\n",
              "    </tr>\n",
              "    <tr>\n",
              "      <th>4</th>\n",
              "      <td>13a05Lc.wav</td>\n",
              "      <td>L</td>\n",
              "      <td>Bordom</td>\n",
              "      <td>13</td>\n",
              "    </tr>\n",
              "    <tr>\n",
              "      <th>5</th>\n",
              "      <td>09a02Eb.wav</td>\n",
              "      <td>E</td>\n",
              "      <td>Disgust</td>\n",
              "      <td>09</td>\n",
              "    </tr>\n",
              "    <tr>\n",
              "      <th>6</th>\n",
              "      <td>03a02Ta.wav</td>\n",
              "      <td>T</td>\n",
              "      <td>Sadness</td>\n",
              "      <td>03</td>\n",
              "    </tr>\n",
              "    <tr>\n",
              "      <th>7</th>\n",
              "      <td>14a04Aa.wav</td>\n",
              "      <td>A</td>\n",
              "      <td>Anxiety/Fear</td>\n",
              "      <td>14</td>\n",
              "    </tr>\n",
              "    <tr>\n",
              "      <th>8</th>\n",
              "      <td>08b02Tc.wav</td>\n",
              "      <td>T</td>\n",
              "      <td>Sadness</td>\n",
              "      <td>08</td>\n",
              "    </tr>\n",
              "    <tr>\n",
              "      <th>9</th>\n",
              "      <td>14a04Tc.wav</td>\n",
              "      <td>T</td>\n",
              "      <td>Sadness</td>\n",
              "      <td>14</td>\n",
              "    </tr>\n",
              "    <tr>\n",
              "      <th>10</th>\n",
              "      <td>14b10Lb.wav</td>\n",
              "      <td>L</td>\n",
              "      <td>Bordom</td>\n",
              "      <td>14</td>\n",
              "    </tr>\n",
              "    <tr>\n",
              "      <th>11</th>\n",
              "      <td>15b02Wc.wav</td>\n",
              "      <td>W</td>\n",
              "      <td>Anger</td>\n",
              "      <td>15</td>\n",
              "    </tr>\n",
              "    <tr>\n",
              "      <th>12</th>\n",
              "      <td>11a05Lc.wav</td>\n",
              "      <td>L</td>\n",
              "      <td>Bordom</td>\n",
              "      <td>11</td>\n",
              "    </tr>\n",
              "    <tr>\n",
              "      <th>13</th>\n",
              "      <td>16b02Lb.wav</td>\n",
              "      <td>L</td>\n",
              "      <td>Bordom</td>\n",
              "      <td>16</td>\n",
              "    </tr>\n",
              "    <tr>\n",
              "      <th>14</th>\n",
              "      <td>11b01Eb.wav</td>\n",
              "      <td>E</td>\n",
              "      <td>Disgust</td>\n",
              "      <td>11</td>\n",
              "    </tr>\n",
              "    <tr>\n",
              "      <th>15</th>\n",
              "      <td>15a01La.wav</td>\n",
              "      <td>L</td>\n",
              "      <td>Bordom</td>\n",
              "      <td>15</td>\n",
              "    </tr>\n",
              "    <tr>\n",
              "      <th>16</th>\n",
              "      <td>12a07Wa.wav</td>\n",
              "      <td>W</td>\n",
              "      <td>Anger</td>\n",
              "      <td>12</td>\n",
              "    </tr>\n",
              "    <tr>\n",
              "      <th>17</th>\n",
              "      <td>12b02Fb.wav</td>\n",
              "      <td>F</td>\n",
              "      <td>Happienss</td>\n",
              "      <td>12</td>\n",
              "    </tr>\n",
              "    <tr>\n",
              "      <th>18</th>\n",
              "      <td>08b09Tb.wav</td>\n",
              "      <td>T</td>\n",
              "      <td>Sadness</td>\n",
              "      <td>08</td>\n",
              "    </tr>\n",
              "    <tr>\n",
              "      <th>19</th>\n",
              "      <td>10b03Wb.wav</td>\n",
              "      <td>W</td>\n",
              "      <td>Anger</td>\n",
              "      <td>10</td>\n",
              "    </tr>\n",
              "  </tbody>\n",
              "</table>\n",
              "</div>"
            ],
            "text/plain": [
              "     File_names Emotion_codes      Emotions Speaker_codes\n",
              "0   14a01Wc.wav             W         Anger            14\n",
              "1   12a01Lb.wav             L        Bordom            12\n",
              "2   16b10Wb.wav             W         Anger            16\n",
              "3   14a05Tc.wav             T       Sadness            14\n",
              "4   13a05Lc.wav             L        Bordom            13\n",
              "5   09a02Eb.wav             E       Disgust            09\n",
              "6   03a02Ta.wav             T       Sadness            03\n",
              "7   14a04Aa.wav             A  Anxiety/Fear            14\n",
              "8   08b02Tc.wav             T       Sadness            08\n",
              "9   14a04Tc.wav             T       Sadness            14\n",
              "10  14b10Lb.wav             L        Bordom            14\n",
              "11  15b02Wc.wav             W         Anger            15\n",
              "12  11a05Lc.wav             L        Bordom            11\n",
              "13  16b02Lb.wav             L        Bordom            16\n",
              "14  11b01Eb.wav             E       Disgust            11\n",
              "15  15a01La.wav             L        Bordom            15\n",
              "16  12a07Wa.wav             W         Anger            12\n",
              "17  12b02Fb.wav             F     Happienss            12\n",
              "18  08b09Tb.wav             T       Sadness            08\n",
              "19  10b03Wb.wav             W         Anger            10"
            ]
          },
          "metadata": {
            "tags": []
          },
          "execution_count": 4
        }
      ]
    },
    {
      "cell_type": "markdown",
      "metadata": {
        "id": "lySvjUSqwbs3"
      },
      "source": [
        "### Dataset preprocessing \n",
        "feature extraction and emotion name\n",
        "\n",
        "The feature extraction code is referenced from the following website\n",
        "\n",
        "https://www.thepythoncode.com/article/building-a-speech-emotion-recognizer-using-sklearn"
      ]
    },
    {
      "cell_type": "code",
      "metadata": {
        "id": "ysY-S1fnBVGb"
      },
      "source": [
        "# Extracting features of the sound to give them as inputs to the ESN-IP\n",
        "# librosa is a library of package used to extract sound/speech features\n",
        "\"\"\"\n",
        "      Extract feature from audio file `file_name`\n",
        "        Features supported:\n",
        "            - MFCC (mfcc)\n",
        "            - Chroma (chroma)\n",
        "            - MEL Spectrogram Frequency (mel)\n",
        "            - Contrast (contrast)\n",
        "            - Tonnetz (tonnetz)\n",
        "        e.g:\n",
        "        `features = extract_feature(path, mel=True, mfcc=True)`\n",
        "    \"\"\"\n",
        "\n",
        "def extract_features(file_name, **kwargs):\n",
        "  mfcc = kwargs.get('mfcc')\n",
        "  chroma = kwargs.get('chroma')\n",
        "  mel = kwargs.get('mel')\n",
        "  contrast = kwargs.get(\"contrast\")\n",
        "  tonnetz = kwargs.get(\"tonnetz\")\n",
        "\n",
        "  with soundfile.SoundFile(file_name) as sound_file:\n",
        "    X = sound_file.read(dtype=\"float32\")\n",
        "    sample_rate = sound_file.samplerate\n",
        "    if chroma or contrast:\n",
        "        stft = np.abs(librosa.stft(X))\n",
        "    result = np.array([])\n",
        "    if mfcc:\n",
        "        mfccs = np.mean(librosa.feature.mfcc(y=X, sr=sample_rate, n_mfcc=40).T, axis=0)\n",
        "        result = np.hstack((result, mfccs))\n",
        "    if chroma:\n",
        "        chroma = np.mean(librosa.feature.chroma_stft(S=stft, sr=sample_rate).T,axis=0)\n",
        "        result = np.hstack((result, chroma))\n",
        "    if mel:\n",
        "        mel = np.mean(librosa.feature.melspectrogram(X, sr=sample_rate).T,axis=0)\n",
        "        result = np.hstack((result, mel))\n",
        "    if contrast:\n",
        "        contrast = np.mean(librosa.feature.spectral_contrast(S=stft, sr=sample_rate).T,axis=0)\n",
        "        result = np.hstack((result, contrast))\n",
        "    if tonnetz:\n",
        "        tonnetz = np.mean(librosa.feature.tonnetz(y=librosa.effects.harmonic(X), sr=sample_rate).T,axis=0)\n",
        "        result = np.hstack((result, tonnetz))\n",
        "  return result\n",
        "\n",
        "# Get emotion labels\n",
        "emotion_encoding = {\n",
        "  'W': 'Anger',\n",
        "  'L': 'Bordom',\n",
        "  'E': 'Disgust',\n",
        "  'A': 'Anxiety/Fear',\n",
        "  'F': 'Happienss',\n",
        "  'T': 'Sadness',\n",
        "  'N': 'Neutral'\n",
        "}\n",
        "\n",
        "# Rerwite the previous funtion to work with the actual code\n",
        "# define a function to get emotion names from the code letters \n",
        "# in the dic emotion_encoding\n",
        "\n",
        "def get_emotions(file_name):\n",
        "  emotion_code = file_name[-1-5]\n",
        "  emotion_name = emotion_encoding[emotion_code]\n",
        "  return emotion_name\n",
        "\n",
        "\n",
        "# append the sound features (the inputs) in x and labels in y\n",
        "x, y_labels = [], []\n",
        "\n",
        "for file in glob.glob(\"wav/*.wav\"):\n",
        "  # extract features by invoking the previous function\n",
        "  features = extract_features(file, mfcc=True, chroma=True, mel=True)\n",
        "  x.append(features)\n",
        "\n",
        "  # from file name get the emotion name\n",
        "  file_name = os.path.basename(file)\n",
        "  emotion_name = get_emotions(file_name)\n",
        "  y_labels.append(emotion_name)\n"
      ],
      "execution_count": null,
      "outputs": []
    },
    {
      "cell_type": "code",
      "metadata": {
        "colab": {
          "base_uri": "https://localhost:8080/"
        },
        "id": "qlzkM6j19ldk",
        "outputId": "5163af1a-e760-461d-f794-4b5b059b9210"
      },
      "source": [
        "# convert x to np.array\n",
        "x = np.array(x)\n",
        "print(x.shape)\n",
        "print(\"The extracted sound features in numerical format:\\n\", x)\n",
        "print(\"========================================================\\n\")\n",
        "# Label encoding the output labels into numerical values\n",
        "\n",
        "# 1.convert y_labels to np.array\n",
        "y_labels = np.array(y_labels)\n",
        "# print(y_labels)\n",
        "\n",
        "# 2. encode labels to numerical values\n",
        "from sklearn.preprocessing import LabelEncoder\n",
        "from sklearn.preprocessing import OneHotEncoder\n",
        "\n",
        "labelencoder = LabelEncoder()\n",
        "y_int = labelencoder.fit_transform(y_labels)\n",
        "# print(y_int)\n",
        "\n",
        "# # 3. reshape y and binary encoded:\n",
        "onehot_encoder = OneHotEncoder(sparse=False)\n",
        "\n",
        "# # y_int = y_int.reshape(-1,1)\n",
        "y_int = y_int.reshape(len(y_int),1)\n",
        "y_binary = onehot_encoder.fit_transform(y_int)\n",
        "print(y_binary.shape)\n",
        "print(\"The emotions in numerical class form:\\n\", y_binary)\n",
        "y = y_binary"
      ],
      "execution_count": null,
      "outputs": [
        {
          "output_type": "stream",
          "text": [
            "(535, 180)\n",
            "The extracted sound features in numerical format:\n",
            " [[-2.03727509e+02  4.66885529e+01 -2.60267372e+01 ...  1.21456617e-02\n",
            "   4.98131011e-03  2.44461070e-03]\n",
            " [-1.79807083e+02  9.96604309e+01 -8.50348759e+00 ...  1.06516294e-03\n",
            "   5.52454381e-04  2.52343394e-04]\n",
            " [-1.95794830e+02  7.62879276e+00 -3.18221474e+01 ...  9.20019299e-03\n",
            "   4.67725750e-03  1.79915433e-03]\n",
            " ...\n",
            " [-2.15402039e+02  8.73074799e+01  3.10500984e+01 ...  4.36414331e-02\n",
            "   1.98393203e-02  1.05115157e-02]\n",
            " [-1.79464874e+02  1.07644226e+02  1.09269075e+01 ...  1.10072950e-02\n",
            "   4.77286382e-03  3.22845811e-03]\n",
            " [-1.88663147e+02  4.52506027e+01 -3.09450603e+00 ...  6.19737990e-02\n",
            "   3.24838534e-02  1.15055023e-02]]\n",
            "========================================================\n",
            "\n",
            "(535, 7)\n",
            "The emotions in numerical class form:\n",
            " [[1. 0. 0. ... 0. 0. 0.]\n",
            " [0. 0. 1. ... 0. 0. 0.]\n",
            " [1. 0. 0. ... 0. 0. 0.]\n",
            " ...\n",
            " [0. 0. 0. ... 0. 0. 1.]\n",
            " [0. 0. 1. ... 0. 0. 0.]\n",
            " [0. 0. 0. ... 0. 0. 0.]]\n"
          ],
          "name": "stdout"
        }
      ]
    },
    {
      "cell_type": "code",
      "metadata": {
        "id": "M8LqzY_r5Ogg"
      },
      "source": [
        "# Split the data for training\n",
        "# just input the x data as a numpy array cause it has many columns  get the test size back to 0.25\n",
        "x_train, x_test, y_train, y_test = train_test_split(x, y, test_size = 0.30, random_state = 7)\n",
        "\n"
      ],
      "execution_count": null,
      "outputs": []
    },
    {
      "cell_type": "code",
      "metadata": {
        "colab": {
          "base_uri": "https://localhost:8080/"
        },
        "id": "Q1rrqi7dbO59",
        "outputId": "45024f36-3325-479f-9ac5-a7b1ff9442f9"
      },
      "source": [
        "print(x_train.shape)\n",
        "print(y_train.shape)"
      ],
      "execution_count": null,
      "outputs": [
        {
          "output_type": "stream",
          "text": [
            "(374, 180)\n",
            "(374, 7)\n"
          ],
          "name": "stdout"
        }
      ]
    },
    {
      "cell_type": "code",
      "metadata": {
        "colab": {
          "base_uri": "https://localhost:8080/"
        },
        "id": "_EeiHYmz0fCH",
        "outputId": "38d003af-3d12-422c-c92d-e0b59fee3a31"
      },
      "source": [
        "print(x_test.shape)\n",
        "print(y_test.shape)\n"
      ],
      "execution_count": null,
      "outputs": [
        {
          "output_type": "stream",
          "text": [
            "(161, 180)\n",
            "(161, 7)\n"
          ],
          "name": "stdout"
        }
      ]
    },
    {
      "cell_type": "markdown",
      "metadata": {
        "id": "knenIRIG7PS9"
      },
      "source": [
        "### ESN-IP"
      ]
    },
    {
      "cell_type": "markdown",
      "metadata": {
        "id": "FJ2uC9vI8_u0"
      },
      "source": [
        "The following code is mainly based on matlab code by Andrea-V, but it is rewritten in python with some modifications to work with the previous dataset and classification problem.\n",
        "\n",
        "https://github.com/Andrea-V/Echo-State-Network-with-Intrinsic-Plasticity\n",
        "\n",
        "\n",
        "\n",
        "and some guidance from pyESN.py class by cknd\n",
        "\n",
        "https://github.com/cknd/pyESN\n",
        "\n",
        "\n"
      ]
    },
    {
      "cell_type": "code",
      "metadata": {
        "colab": {
          "base_uri": "https://localhost:8080/"
        },
        "id": "r_Z82L6OIYdC",
        "outputId": "41f64fb9-9433-4c9b-d76f-4a05b16cba00"
      },
      "source": [
        "#random no. b/w ]-5, 5[ \n",
        "x = 10 * np.random.rand(2,3) - 5 \n",
        "x\n",
        "\n",
        "#random no. b/w ]-0.5, 0.5[ \n",
        "x = 1 * np.random.rand(2,3) - 0.5 \n",
        "x  \n",
        "\n",
        "#random no. b/w ]-0.1, 0.1[ \n",
        "x = 0.2 * np.random.rand(2,3) - 0.1 \n",
        "x  "
      ],
      "execution_count": null,
      "outputs": [
        {
          "output_type": "execute_result",
          "data": {
            "text/plain": [
              "array([[-0.07466781,  0.03940979,  0.07482152],\n",
              "       [ 0.06948728,  0.01826405, -0.07432854]])"
            ]
          },
          "metadata": {
            "tags": []
          },
          "execution_count": 10
        }
      ]
    },
    {
      "cell_type": "code",
      "metadata": {
        "id": "9DdIHL-d-Q3_"
      },
      "source": [
        "\"\"\"\n",
        "inputs: array of dimensions (N_training_samples x n_inputs)\n",
        "outputs: array of dimension (N_training_samples x n_outputs)\n",
        "\n",
        "n_inputs = input_features\n",
        "n_outputs = output_classes\n",
        "==============================================================\n",
        "input_features = the number of features (cols) for each row (sample)\n",
        "res_units = internal units = no. of reservoir units\n",
        "spectral_radius of reservoir's weight matrix\n",
        "scaling = input scaling\n",
        "connectivity = the connection threshold between the neurons or nodes = rate \n",
        "of reservoir's units.\n",
        "lambda = Regularization rate\n",
        "\n",
        "nepoch = Number of epochs of IP pretraining\n",
        "mu = mean of target Normal distribution.\n",
        "sigma = the variance of target normal distribution.\n",
        "eta = learning rate\n",
        "lambda1 = regularization rate.\n",
        "samples, features = train_x.shape   \n",
        "#sample = rows & features = inputs = cols\n",
        "\n",
        "\"\"\"\n",
        "\n",
        "class ESN(object):\n",
        "  def __init__(self, x_train, y_train, \n",
        "               res_units = 500, spectral_radius=0.99, scaling=0.2, \n",
        "               connectivity=0.3, eta=5e-4, mu=0, sigma=0.1, \n",
        "               nepochs = 20, lambda1 = 500, IP = True, \n",
        "               teacher_forcing = True):\n",
        "    # Initialize attributes / data fields / parameters\n",
        "    self._x_train = x_train\n",
        "    self._y_train = y_train\n",
        "    self._input_features = x_train.shape[1]\n",
        "    self._output_classes = y_train.shape[1]\n",
        "    self._res_units = res_units\n",
        "    self._spectral_radius = spectral_radius\n",
        "    self._scaling = scaling\n",
        "    self._connectivity = connectivity\n",
        "    self._with_IP = IP\n",
        "    self._teacher_forcing = teacher_forcing\n",
        "    self._eta = eta\n",
        "    self._mu = mu\n",
        "    self._sigma = sigma\n",
        "    self._nepochs = nepochs\n",
        "    self._lambda1 = lambda1\n",
        "    self.esn_init_weights()\n",
        "    self.esn_train_ip(x_train)\n",
        "  # First: Initialize the esn by generating initial w_in and w_hat:     \n",
        "  def esn_init_weights(self):\n",
        "    # 1. Generate input weights w_in\n",
        "    self.w_in = self._scaling * np.random.rand(self._res_units, self._input_features) - 0.1\n",
        "\n",
        "    # 2. now generate the internal weights or reservoir weights w_hat\n",
        "    # we do not want 0 as max eigenvalue \n",
        "    max_eigen_value = 0\n",
        "\n",
        "    while max_eigen_value == 0:\n",
        "      w_hat = np.random.rand(self._res_units, self._res_units) - 0.5\n",
        "      \n",
        "      # delete the weights / connections given by self._connectivity by setting them to 0\n",
        "      w_hat[np.random.rand(self._res_units, self._res_units) > self._connectivity] = 0\n",
        "\n",
        "      # w_hat should be square matrix to find the eigen value.\n",
        "      max_eigen_value = max(abs(np.linalg.eigvals(w_hat)))\n",
        "      # print(\"current max eigen value of w_hat is: \", max_eigen_value)\n",
        "    # echo state property / rescale the weights to reach the requested spectral radius\n",
        "    self.w_hat = w_hat * (self._spectral_radius / max_eigen_value) # necessary condition\n",
        "\n",
        "    # 3. generate random feedback (teacher forcing) weights\n",
        "    self.w_feedb = np.random.rand(self._res_units, self._output_classes) * 2 - 1\n",
        "    np.savetxt(\"w_hat.csv\", self.w_hat, delimiter=\",\")\n",
        "    return self.w_hat\n",
        "  #######################################################################\n",
        "  # Second: Train IP - Find the IP parameters a and b: \n",
        "  def esn_train_ip(self,x):\n",
        "    # x: samples on the columns\n",
        "    tol = 1e-7\n",
        "\n",
        "    # init IP params\n",
        "    ip_a = np.ones((len(self.w_hat),1))\n",
        "    ip_b = np.zeros((len(self.w_hat),1))\n",
        "\n",
        "    for epoch in range(self._nepochs):\n",
        "      old_a = ip_a\n",
        "      old_b = ip_b\n",
        "\n",
        "      for j in range(len(x)):\n",
        "        if j == 0:\n",
        "          x1 = self.w_in @ x[j, :].reshape(-1,1) # it should be reshape 1,-1 and the reshape -1, 1 convert it again to 1 dim array with shape(4,)  \n",
        "          # print(x1)\n",
        "        else:\n",
        "          x1 = (self.w_in @ x[j, :].reshape(-1,1)) + (self.w_hat @ last_state)\n",
        "              \n",
        "        # save last echo states (needed for x(t+1) so y is x(t+1))\n",
        "        y = np.tanh(ip_a * x1 + ip_b)\n",
        "        last_state = y\n",
        "  \n",
        "        # IP delta rule\n",
        "        zs = np.zeros((len(self.w_hat),1))\n",
        "\n",
        "        # ip_b\n",
        "        delta_b = - self._eta * ( - (zs + self._mu/self._sigma**2) + y/self._sigma**2 * (2 * self._sigma**2 + 1 - y**2 + self._mu*y) )\n",
        "        ip_b = ip_b + delta_b\n",
        "\n",
        "        #ip_a\n",
        "        delta_a = self._eta / ip_a + delta_b * x1\n",
        "        ip_a = ip_a + delta_a\n",
        "\n",
        "      # stop iterations if the changes of ip (old and new) are negligible (very small)\n",
        "      norm_a = np.linalg.norm(old_a - ip_a,2)\n",
        "      norm_b = np.linalg.norm(old_b - ip_b,2)\n",
        "      if norm_a < tol and norm_b < tol:\n",
        "        break\n",
        "\n",
        "    self.ip_a = np.transpose(ip_a)\n",
        "    self.ip_b = np.transpose(ip_b)\n",
        "    # return self.ip_a, self.ip_b\n",
        "\n",
        "  #######################################################################\n",
        "  # Third define the esn states \n",
        "  def esn_states(self,x):\n",
        "    # create 2D empty numpy array\n",
        "    if x.ndim < 2:\n",
        "      inputs = np.reshape(x, (len(x), -1))\n",
        "\n",
        "    # allocate memory for the collected states matrix\n",
        "    states = np.zeros((x.shape[0], self._res_units))\n",
        "\n",
        "    y = self._y_train\n",
        "    # calculate states using only IP params\n",
        "    if self._with_IP and self._teacher_forcing == False:  \n",
        "      print(\"only IP....\")    \n",
        "      for j in range(1,len(x)): \n",
        "        state = (self.w_in @ x[j,:]) + (self.w_hat @ states[j-1, :])  \n",
        "        state = np.tanh(self.ip_a * state + self.ip_b)\n",
        "        states[j] = state\n",
        "\n",
        "    # calculate states without using IP params or teacher forcing\n",
        "    elif self._with_IP == False and self._teacher_forcing == False:\n",
        "      print(\"no IP, no teacher forcing....\")  \n",
        "      for j in range(1,len(x)): \n",
        "        state = (self.w_in @ x[j,:]) + (self.w_hat @ states[j-1, :])\n",
        "        state = np.tanh(state)\n",
        "        states[j] = state\n",
        "      \n",
        "    # calculate states using only teacher forcing\n",
        "    elif self._with_IP == False and self._teacher_forcing:\n",
        "      print(\"only teacher forcing....\")\n",
        "      for j in range(1,len(x)): \n",
        "        state = (self.w_in @ x[j,:]) + (self.w_hat @ states[j-1, :]) + (self.w_feedb @ y[j,:])\n",
        "        state = np.tanh(state)\n",
        "        states[j] = state\n",
        "      \n",
        "    # calculate states using both IP params AND teacher forcing\n",
        "    elif self._with_IP and self._teacher_forcing:\n",
        "      print(\"with IP and teacher forcing....\")  \n",
        "      for j in range(1,len(x)): \n",
        "        state = (self.w_in @ x[j,:]) + (self.w_hat @ states[j-1, :]) + (self.w_feedb @ y[j,:])\n",
        "        state = np.tanh(self.ip_a * state + self.ip_b)\n",
        "        states[j] = state\n",
        "      \n",
        "    # add inputs and bias 1 to states matrix\n",
        "    ext_states = np.hstack((states, x, np.ones((states.shape[0],1))))\n",
        "\n",
        "    return ext_states\n",
        "\n",
        "  #######################################################################\n",
        "  # Forth train the readout (output weights) of ESN    \n",
        "  def esn_fit(self):\n",
        "    x, y = self._x_train, self._y_train\n",
        "    ext_states = self.esn_states(x)\n",
        "\n",
        "    # transient = min(int(x.shape[0]/10), 100)\n",
        "    transient = 0\n",
        "        \n",
        "    # solve to w_out using ridge regression\n",
        "    # W_out = (XT*Y) / (XT*X + lambda*Identity) => w_out = inverse(XT*X + lambda*Identity) * (XT*Y)\n",
        "    # self.w_out = np.linalg.inv((extended_states[transient:, :].T @ extended_states[transient:, :]) + (self._lambda1 * np.identity(extended_states[transient:, :].shape[1]))) @ (extended_states[transient:, :].T @ y[transient:, :])\n",
        "    # self.w_out = np.linalg.inv(np.dot(ext_states[transient:, :].T, ext_states[transient:, :]) + np.dot(self._lambda1, np.identity(ext_states[transient:, :].shape[1]))) @ np.dot(ext_states[transient:, :].T, y[transient:, :])\n",
        "    self.ridge = Ridge(alpha=self._lambda1, fit_intercept=True, solver= 'auto', tol=0.001, random_state=None)\n",
        "    self.ridge.fit(ext_states[transient:, :], y[transient:, :])\n",
        "    \n",
        "    # self.w_out = self.ridge.coef_\n",
        "    # self.w_out = np.transpose(np.array(self.w_out))\n",
        "    \n",
        "    # # now calculate the output using the w_out\n",
        "    # pred_y_temp = ext_states @ self.w_out\n",
        "    # pred_y_temp -=np.max(pred_y_temp)\n",
        "    # pred_y = softmax(pred_y_temp, axis=1) # axis1 to make soft max calculate probabilities for each row\n",
        "\n",
        "    # predict using sklearn ridge.redict function\n",
        "    pred_y_temp = self.ridge.predict(ext_states[transient:, :])\n",
        "    pred_y = softmax(pred_y_temp, axis=1) \n",
        "    return pred_y\n",
        "\n",
        "  ########################################################################\n",
        "  # Finally the predict class:\n",
        "  def esn_predict(self, x):\n",
        "    states = self.esn_states(x)\n",
        "    pred_y_temp = self.ridge.predict(states)\n",
        "    pred_y = softmax(pred_y_temp, axis=1) \n",
        "    return pred_y\n",
        "\n",
        "  ########################################################################\n",
        "  # Finally the predict using saved weights:\n",
        "  def esn_predict_with_custom_weights(self, x, weights):\n",
        "    states = self.esn_states(x)\n",
        "    pred_y_temp = states @ weights\n",
        "    pred_y = softmax(pred_y_temp, axis=1)\n",
        "    return pred_y\n",
        "\n",
        "  ########################################################################\n",
        "  # Finally the predict class name:\n",
        "\n",
        "  ########################################################################\n",
        "  # Calculate the error and accuracy:\n",
        "  def score(self,y, pred_y):\n",
        "    # calculate the error of every row\n",
        "    err = np.sqrt(np.mean((pred_y - y)**2))\n",
        "    # err1 = self.ridge.score(y, pred_y)\n",
        "\n",
        "    print(\"the square root of the mean of squared errors = \", err)\n",
        "    # print(\"the ridge errors = \", err1)\n",
        "    # calculate the accuracy of predicting the correct class\n",
        "    counter = 0\n",
        "    for i in range(len(pred_y)):\n",
        "      max1 = max(pred_y[i])\n",
        "      class_index = list(pred_y[i]).index(max1)\n",
        "      if class_index == list(y[i]).index(1):\n",
        "        counter +=1\n",
        "\n",
        "    accuracy = (counter/len(pred_y)) * 100  \n",
        "    print(\"the accuracy = \", accuracy, \"%\")\n",
        "    return err, accuracy\n",
        "  #####################################################################\n",
        "  # get the class name out of the prediction\n",
        "  # def \n",
        "\n",
        "\n"
      ],
      "execution_count": null,
      "outputs": []
    },
    {
      "cell_type": "markdown",
      "metadata": {
        "id": "R1_uZ5PC-iCi"
      },
      "source": [
        "#### Train"
      ]
    },
    {
      "cell_type": "code",
      "metadata": {
        "colab": {
          "base_uri": "https://localhost:8080/",
          "height": 694
        },
        "id": "GlQKpuqRsMDH",
        "outputId": "a94d7a92-54fd-4ef3-832d-af4e6b5d30d9"
      },
      "source": [
        "# 1. using only IP\n",
        "esn = ESN(x_train, y_train, teacher_forcing=False)\n",
        "pred_train = esn.esn_fit()\n",
        "print(pred_train)\n",
        "# print(pred_train)\n",
        "print('Training scores:')\n",
        "esn.score(y_train, pred_train)\n",
        "print('============================\\n')\n",
        "pred_test = esn.esn_predict(x_test)\n",
        "print('Testing scores:')\n",
        "esn.score(y_test, pred_test)\n",
        "print('============================\\n')\n",
        "\n",
        "\n",
        "# get the index of the class with the highest probability\n",
        "# because the confusion matrix accepts only 1d vector of digits\n",
        "pred_test_index = argmax(pred_test, axis=1)\n",
        "y_test_index = argmax(y_test, axis=1)\n",
        "\n",
        "from sklearn.metrics import confusion_matrix\n",
        "import seaborn as sns; sns.set()\n",
        "emotion_range = ['Anger', 'Bordom', 'Disgust', 'Anxiety/Fear', 'Happienss', 'Sadness', 'Neutral']\n",
        "mat = confusion_matrix(y_test_index, pred_test_index)\n",
        "mat # this is the conv matrix\n",
        "# create the heat map\n",
        "sns.heatmap(mat.T, square=True, annot=True, fmt='d', cbar=False, \n",
        "            xticklabels=emotion_range, yticklabels=emotion_range)\n",
        "\n",
        "\n",
        "#ploting heatmap of confusion matrix\n",
        "plt.title(\"Confusion matrix\")\n",
        "plt.xlabel('true label')\n",
        "plt.ylabel('predicted label')"
      ],
      "execution_count": null,
      "outputs": [
        {
          "output_type": "stream",
          "text": [
            "only IP....\n",
            "[[0.12538767 0.10540343 0.28239427 ... 0.10504218 0.13728863 0.12277308]\n",
            " [0.29238493 0.11192721 0.10849593 ... 0.13427268 0.12190227 0.10878383]\n",
            " [0.30867895 0.12088534 0.12415544 ... 0.10358582 0.11882222 0.11067702]\n",
            " ...\n",
            " [0.21614566 0.12166696 0.11422758 ... 0.15811271 0.14141251 0.11482713]\n",
            " [0.11711045 0.10826081 0.23131574 ... 0.11990832 0.15633784 0.13222963]\n",
            " [0.11516486 0.10746295 0.12054769 ... 0.09923009 0.09318183 0.35859371]]\n",
            "Training scores:\n",
            "the square root of the mean of squared errors =  0.3107901011419572\n",
            "the accuracy =  95.72192513368985 %\n",
            "============================\n",
            "\n",
            "only IP....\n",
            "Testing scores:\n",
            "the square root of the mean of squared errors =  0.327606393553376\n",
            "the accuracy =  66.45962732919256 %\n",
            "============================\n",
            "\n"
          ],
          "name": "stdout"
        },
        {
          "output_type": "execute_result",
          "data": {
            "text/plain": [
              "Text(89.18, 0.5, 'predicted label')"
            ]
          },
          "metadata": {
            "tags": []
          },
          "execution_count": 21
        },
        {
          "output_type": "display_data",
          "data": {
            "image/png": "[encoded data removed]",
            "text/plain": [
              "<Figure size 432x288 with 1 Axes>"
            ]
          },
          "metadata": {
            "tags": []
          }
        }
      ]
    },
    {
      "cell_type": "code",
      "metadata": {
        "colab": {
          "base_uri": "https://localhost:8080/",
          "height": 577
        },
        "id": "_2A049OZsHp2",
        "outputId": "ea793df8-c789-4666-f50e-fc956c1750a5"
      },
      "source": [
        "# 2. using only teacher forcing\n",
        "esn1 = ESN(x_train, y_train, IP=False)\n",
        "pred_train1 = esn1.esn_fit()\n",
        "print('Training scores:')\n",
        "esn1.score(y_train, pred_train1)\n",
        "print('============================\\n')\n",
        "\n",
        "pred_test1 = esn1.esn_predict(x_test)\n",
        "print('Testing scores:')\n",
        "esn1.score(y_test, pred_test1)\n",
        "print('============================\\n')\n",
        "\n",
        "\n",
        "# get the index of the class with the highest probability\n",
        "# because the confusion matrix accepts only 1d vector of digits\n",
        "pred_test_index1 = argmax(pred_test1, axis=1)\n",
        "y_test_index1 = argmax(y_test, axis=1)\n",
        "\n",
        "mat = confusion_matrix(y_test_index1, pred_test_index1)\n",
        "mat # this is the conv matrix\n",
        "# create the heat map\n",
        "sns.heatmap(mat.T, square=True, annot=True, fmt='d', cbar=False, \n",
        "            xticklabels=emotion_range, yticklabels=emotion_range)\n",
        "\n",
        "#ploting heatmap of confusion matrix\n",
        "plt.title(\"Confusion matrix\")\n",
        "plt.xlabel('true label')\n",
        "plt.ylabel('predicted label')"
      ],
      "execution_count": null,
      "outputs": [
        {
          "output_type": "stream",
          "text": [
            "only teacher forcing....\n",
            "Training scores:\n",
            "the square root of the mean of squared errors =  0.3092110272615691\n",
            "the accuracy =  97.32620320855615 %\n",
            "============================\n",
            "\n",
            "only teacher forcing....\n",
            "Testing scores:\n",
            "the square root of the mean of squared errors =  0.3280574863710614\n",
            "the accuracy =  68.32298136645963 %\n",
            "============================\n",
            "\n"
          ],
          "name": "stdout"
        },
        {
          "output_type": "execute_result",
          "data": {
            "text/plain": [
              "Text(89.18, 0.5, 'predicted label')"
            ]
          },
          "metadata": {
            "tags": []
          },
          "execution_count": 20
        },
        {
          "output_type": "display_data",
          "data": {
            "image/png": "[encoded data removed]",
            "text/plain": [
              "<Figure size 432x288 with 1 Axes>"
            ]
          },
          "metadata": {
            "tags": []
          }
        }
      ]
    },
    {
      "cell_type": "code",
      "metadata": {
        "colab": {
          "base_uri": "https://localhost:8080/",
          "height": 577
        },
        "id": "WzLc-MQG-m_P",
        "outputId": "2f8eae2b-b4ec-421c-ccc5-ab5f2f834d87"
      },
      "source": [
        "# 3. using Both IP and teacher forcing\n",
        "esn2 = ESN(x_train, y_train)\n",
        "pred_train2 = esn2.esn_fit()\n",
        "print('Training scores:')\n",
        "esn2.score(y_train, pred_train2)\n",
        "print('============================\\n')\n",
        "\n",
        "pred_test2 = esn2.esn_predict(x_test)\n",
        "print('Testing scores:')\n",
        "esn2.score(y_test, pred_test2)\n",
        "print('============================\\n')\n",
        "\n",
        "\n",
        "# get the index of the class with the highest probability\n",
        "# because the confusion matrix accepts only 1d vector of digits\n",
        "pred_test_index2 = argmax(pred_test2, axis=1)\n",
        "y_test_index2 = argmax(y_test, axis=1)\n",
        "\n",
        "mat = confusion_matrix(y_test_index2, pred_test_index2)\n",
        "mat # this is the conv matrix\n",
        "# create the heat map\n",
        "sns.heatmap(mat.T, square=True, annot=True, fmt='d', cbar=False, \n",
        "            xticklabels=emotion_range, yticklabels=emotion_range)\n",
        "\n",
        "#ploting heatmap of confusion matrix\n",
        "plt.title(\"Confusion matrix\")\n",
        "plt.xlabel('true label')\n",
        "plt.ylabel('predicted label')"
      ],
      "execution_count": null,
      "outputs": [
        {
          "output_type": "stream",
          "text": [
            "with IP and teacher forcing....\n",
            "Training scores:\n",
            "the square root of the mean of squared errors =  0.31039526350764507\n",
            "the accuracy =  95.18716577540107 %\n",
            "============================\n",
            "\n",
            "with IP and teacher forcing....\n",
            "Testing scores:\n",
            "the square root of the mean of squared errors =  0.32839566976259693\n",
            "the accuracy =  63.975155279503106 %\n",
            "============================\n",
            "\n"
          ],
          "name": "stdout"
        },
        {
          "output_type": "execute_result",
          "data": {
            "text/plain": [
              "Text(89.18, 0.5, 'predicted label')"
            ]
          },
          "metadata": {
            "tags": []
          },
          "execution_count": 19
        },
        {
          "output_type": "display_data",
          "data": {
            "image/png": "[encoded data removed]",
            "text/plain": [
              "<Figure size 432x288 with 1 Axes>"
            ]
          },
          "metadata": {
            "tags": []
          }
        }
      ]
    },
    {
      "cell_type": "code",
      "metadata": {
        "colab": {
          "base_uri": "https://localhost:8080/",
          "height": 577
        },
        "id": "rHdL9vSRsTyd",
        "outputId": "8eaa4dfe-daa1-4744-9156-125fae6e352d"
      },
      "source": [
        "# 4. without using neither IP nor teacher forcing\n",
        "esn3 = ESN(x_train, y_train, IP=False, teacher_forcing=False)\n",
        "pred_train3 = esn3.esn_fit()\n",
        "print('Training scores:')\n",
        "esn3.score(y_train, pred_train3)\n",
        "print('============================\\n')\n",
        "\n",
        "pred_test3 = esn3.esn_predict(x_test)\n",
        "print('Testing scores:')\n",
        "esn3.score(y_test, pred_test3)\n",
        "print('============================\\n')\n",
        "\n",
        "\n",
        "# get the index of the class with the highest probability\n",
        "# because the confusion matrix accepts only 1d vector of digits\n",
        "pred_test_index3 = argmax(pred_test3, axis=1)\n",
        "y_test_index3 = argmax(y_test, axis=1)\n",
        "\n",
        "mat = confusion_matrix(y_test_index3, pred_test_index3)\n",
        "mat # this is the conv matrix\n",
        "# create the heat map\n",
        "sns.heatmap(mat.T, square=True, annot=True, fmt='d', cbar=False, \n",
        "            xticklabels=emotion_range, yticklabels=emotion_range)\n",
        "\n",
        "#ploting heatmap of confusion matrix\n",
        "plt.title(\"Confusion matrix\")\n",
        "plt.xlabel('true label')\n",
        "plt.ylabel('predicted label')"
      ],
      "execution_count": null,
      "outputs": [
        {
          "output_type": "stream",
          "text": [
            "no IP, no teacher forcing....\n",
            "Training scores:\n",
            "the square root of the mean of squared errors =  0.3101561714327165\n",
            "the accuracy =  96.79144385026738 %\n",
            "============================\n",
            "\n",
            "no IP, no teacher forcing....\n",
            "Testing scores:\n",
            "the square root of the mean of squared errors =  0.3279318945863927\n",
            "the accuracy =  64.59627329192547 %\n",
            "============================\n",
            "\n"
          ],
          "name": "stdout"
        },
        {
          "output_type": "execute_result",
          "data": {
            "text/plain": [
              "Text(89.18, 0.5, 'predicted label')"
            ]
          },
          "metadata": {
            "tags": []
          },
          "execution_count": 16
        },
        {
          "output_type": "display_data",
          "data": {
            "image/png": "[encoded data removed]",
            "text/plain": [
              "<Figure size 432x288 with 1 Axes>"
            ]
          },
          "metadata": {
            "tags": []
          }
        }
      ]
    }
  ]
}